{
 "cells": [
  {
   "cell_type": "code",
   "execution_count": 6,
   "metadata": {},
   "outputs": [],
   "source": [
    "import torch\n",
    "import torch.nn as nn\n",
    "import torch.nn.functional as F\n",
    "import torch.optim as optim\n",
    "import matplotlib.pyplot as plt\n",
    "import random\n",
    "%matplotlib inline"
   ]
  },
  {
   "cell_type": "code",
   "execution_count": 2,
   "metadata": {},
   "outputs": [
    {
     "data": {
      "text/plain": [
       "['emma', 'olivia', 'ava', 'isabella', 'sophia', 'charlotte', 'mia', 'amelia']"
      ]
     },
     "execution_count": 2,
     "metadata": {},
     "output_type": "execute_result"
    }
   ],
   "source": [
    "with open(\"../data/names.txt\", \"r\") as file:\n",
    "    words = file.read().splitlines()\n",
    "\n",
    "words[:8]"
   ]
  },
  {
   "cell_type": "code",
   "execution_count": 3,
   "metadata": {},
   "outputs": [
    {
     "name": "stdout",
     "output_type": "stream",
     "text": [
      "{'a': 1, 'b': 2, 'c': 3, 'd': 4, 'e': 5, 'f': 6, 'g': 7, 'h': 8, 'i': 9, 'j': 10, 'k': 11, 'l': 12, 'm': 13, 'n': 14, 'o': 15, 'p': 16, 'q': 17, 'r': 18, 's': 19, 't': 20, 'u': 21, 'v': 22, 'w': 23, 'x': 24, 'y': 25, 'z': 26, '.': 0}\n",
      "{1: 'a', 2: 'b', 3: 'c', 4: 'd', 5: 'e', 6: 'f', 7: 'g', 8: 'h', 9: 'i', 10: 'j', 11: 'k', 12: 'l', 13: 'm', 14: 'n', 15: 'o', 16: 'p', 17: 'q', 18: 'r', 19: 's', 20: 't', 21: 'u', 22: 'v', 23: 'w', 24: 'x', 25: 'y', 26: 'z', 0: '.'}\n",
      "vocab_size:  27\n"
     ]
    }
   ],
   "source": [
    "chars = sorted(list(set(\"\".join(words))))\n",
    "stoi = {s:i+1 for i,s in enumerate(chars)}\n",
    "stoi['.'] = 0\n",
    "itos = {i:s for s,i in stoi.items()}\n",
    "print(stoi)\n",
    "print(itos)\n",
    "vocab_size = len(stoi)\n",
    "print(\"vocab_size: \", vocab_size)"
   ]
  },
  {
   "cell_type": "code",
   "execution_count": 4,
   "metadata": {},
   "outputs": [
    {
     "name": "stdout",
     "output_type": "stream",
     "text": [
      "... ---> e\n",
      "..e ---> m\n",
      ".em ---> m\n",
      "emm ---> a\n",
      "mma ---> .\n",
      "... ---> o\n",
      "..o ---> l\n",
      ".ol ---> i\n",
      "oli ---> v\n",
      "liv ---> i\n",
      "ivi ---> a\n",
      "via ---> .\n",
      "... ---> a\n",
      "..a ---> v\n",
      ".av ---> a\n",
      "ava ---> .\n"
     ]
    }
   ],
   "source": [
    "block_size = 3\n",
    "\n",
    "X, Y = [], []\n",
    "\n",
    "for w in words[:3]:\n",
    "    context = [0] * block_size\n",
    "    for ch in w + '.':\n",
    "        ix = stoi[ch]\n",
    "        X.append(context)\n",
    "        Y.append(ix)\n",
    "        print(\"\".join(itos[i] for i in context), \"--->\", itos[ix])\n",
    "        context = context[1:] + [ix]"
   ]
  },
  {
   "cell_type": "code",
   "execution_count": 5,
   "metadata": {},
   "outputs": [
    {
     "name": "stdout",
     "output_type": "stream",
     "text": [
      "torch.Size([182625, 3]) torch.int64 torch.Size([182625]) torch.int64\n",
      "torch.Size([22655, 3]) torch.int64 torch.Size([22655]) torch.int64\n",
      "torch.Size([22866, 3]) torch.int64 torch.Size([22866]) torch.int64\n"
     ]
    }
   ],
   "source": [
    "# build the dataset\n",
    "block_size = 3\n",
    "\n",
    "def build_dataset(words):\n",
    "    X, Y = [], []\n",
    "    for w in words:\n",
    "        context = [0] * block_size\n",
    "        for ch in w + '.':\n",
    "            ix = stoi[ch]\n",
    "            X.append(context)\n",
    "            Y.append(ix)\n",
    "            context = context[1:] + [ix]\n",
    "\n",
    "    X = torch.tensor(X)\n",
    "    Y = torch.tensor(Y)\n",
    "    print(X.shape, X.dtype, Y.shape, Y.dtype)\n",
    "    return X, Y\n",
    "\n",
    "random.seed(42)\n",
    "random.shuffle(words)\n",
    "\n",
    "n1 = int(0.8 * len(words))\n",
    "n2 = int(0.9 * len(words))\n",
    "\n",
    "Xtr, Ytr = build_dataset(words[:n1])\n",
    "Xdev, Ydev = build_dataset(words[n1:n2])\n",
    "Xte, Yte = build_dataset(words[n2:])\n"
   ]
  },
  {
   "cell_type": "code",
   "execution_count": 6,
   "metadata": {},
   "outputs": [
    {
     "name": "stdout",
     "output_type": "stream",
     "text": [
      "Input:  [0, 0, 0]  Target:  25\n",
      "Input:  ...  Target:  y\n",
      "Input:  [0, 0, 25]  Target:  21\n",
      "Input:  ..y  Target:  u\n",
      "Input:  [0, 25, 21]  Target:  8\n",
      "Input:  .yu  Target:  h\n",
      "Input:  [25, 21, 8]  Target:  5\n",
      "Input:  yuh  Target:  e\n",
      "Input:  [21, 8, 5]  Target:  14\n",
      "Input:  uhe  Target:  n\n",
      "Input:  [8, 5, 14]  Target:  7\n",
      "Input:  hen  Target:  g\n",
      "Input:  [5, 14, 7]  Target:  0\n",
      "Input:  eng  Target:  .\n"
     ]
    }
   ],
   "source": [
    "for i in range(7):\n",
    "    print(\"Input: \", Xtr[i].tolist(),\" Target: \", Ytr[i].item())\n",
    "    print(\"Input: \", \"\".join((itos[w]) for w in Xtr[i].tolist()), \" Target: \", itos[Ytr[i].item()])\n"
   ]
  },
  {
   "cell_type": "code",
   "execution_count": 10,
   "metadata": {},
   "outputs": [
    {
     "name": "stdout",
     "output_type": "stream",
     "text": [
      "training on cuda\n",
      "torch.Size([182625, 3]) torch.int64 torch.Size([182625]) torch.int64\n",
      "torch.Size([22655, 3]) torch.int64 torch.Size([22655]) torch.int64\n",
      "torch.Size([22866, 3]) torch.int64 torch.Size([22866]) torch.int64\n"
     ]
    }
   ],
   "source": [
    "\n",
    "class MLP(nn.Module):\n",
    "    def __init__(self, vocab_size, n_embd, block_size, n_hidden, use_norm_layer=True):\n",
    "        super(MLP, self).__init__()\n",
    "        # Create the embedding table\n",
    "        self.embedding_table = nn.Embedding(vocab_size, n_embd)\n",
    "        \n",
    "        # Define the sequence of layers\n",
    "        layers = [\n",
    "            nn.Linear(n_embd * block_size, n_hidden),\n",
    "            nn.LayerNorm(n_hidden) if use_norm_layer else nn.Identity(),\n",
    "            nn.Tanh(),\n",
    "            nn.Linear(n_hidden, n_hidden),\n",
    "            nn.LayerNorm(n_hidden) if use_norm_layer else nn.Identity(),\n",
    "            nn.Tanh(),\n",
    "            nn.Linear(n_hidden, n_hidden),\n",
    "            nn.LayerNorm(n_hidden) if use_norm_layer else nn.Identity(),\n",
    "            nn.Tanh(),\n",
    "            nn.Linear(n_hidden, n_hidden),\n",
    "            nn.LayerNorm(n_hidden) if use_norm_layer else nn.Identity(),\n",
    "            nn.Tanh(),\n",
    "            nn.Linear(n_hidden, n_hidden),\n",
    "            nn.LayerNorm(n_hidden) if use_norm_layer else nn.Identity(),\n",
    "            nn.Tanh(),\n",
    "            nn.Linear(n_hidden, vocab_size),\n",
    "            nn.LayerNorm(vocab_size) if use_norm_layer else nn.Identity()\n",
    "        ]\n",
    "        \n",
    "        # Create a sequential container\n",
    "        self.layers = nn.Sequential(*layers)\n",
    "        \n",
    "    def forward(self, x):\n",
    "        # Forward pass through the embedding table\n",
    "        x = self.embedding_table(x)  # shape: (batch_size, block_size, n_embd)\n",
    "        # Flatten the embeddings\n",
    "        x = x.view(x.size(0), -1)  # shape: (batch_size, block_size * n_embd)\n",
    "        # Forward pass through the MLP layers\n",
    "        x = self.layers(x)  # shape: (batch_size, vocab_size)\n",
    "        return x\n",
    "\n",
    "# Define parameters\n",
    "vocab_size = 27      # as per your requirement\n",
    "n_embd = 10          # you can choose this value as needed\n",
    "block_size = 3       # number of input characters\n",
    "n_hidden = 100       # size of the hidden layer\n",
    "use_norm_layer = False  # flag to use normalization layer\n",
    "lr_init = 0.01\n",
    "\n",
    "# Check for CUDA\n",
    "device = torch.device('cuda' if torch.cuda.is_available() else 'cpu')\n",
    "print(f\"Using device: {device}\")\n",
    "\n",
    "# Create an instance of the MLP class\n",
    "model = MLP(vocab_size, n_embd, block_size, n_hidden, use_norm_layer).to(device)\n",
    "\n",
    "# Define the optimizer\n",
    "optimizer = optim.AdamW(model.parameters(), lr=lr_init, weight_decay=0.01, betas=(0.9, 0.999), eps=1e-08)\n",
    "\n",
    "# Make datasets\n",
    "Xtr, Ytr = build_dataset(words[:n1])\n",
    "Xdev, Ydev = build_dataset(words[n1:n2])\n",
    "Xte, Yte = build_dataset(words[n2:])"
   ]
  },
  {
   "cell_type": "code",
   "execution_count": 11,
   "metadata": {},
   "outputs": [
    {
     "ename": "RuntimeError",
     "evalue": "Expected target size [32, 27], got [32]",
     "output_type": "error",
     "traceback": [
      "\u001b[0;31m---------------------------------------------------------------------------\u001b[0m",
      "\u001b[0;31mRuntimeError\u001b[0m                              Traceback (most recent call last)",
      "Cell \u001b[0;32mIn[11], line 15\u001b[0m\n\u001b[1;32m     13\u001b[0m optimizer\u001b[38;5;241m.\u001b[39mzero_grad()\n\u001b[1;32m     14\u001b[0m logits \u001b[38;5;241m=\u001b[39m model(Xb)\n\u001b[0;32m---> 15\u001b[0m loss \u001b[38;5;241m=\u001b[39m \u001b[43mF\u001b[49m\u001b[38;5;241;43m.\u001b[39;49m\u001b[43mcross_entropy\u001b[49m\u001b[43m(\u001b[49m\u001b[43mlogits\u001b[49m\u001b[43m,\u001b[49m\u001b[43m \u001b[49m\u001b[43mYb\u001b[49m\u001b[43m)\u001b[49m\n\u001b[1;32m     17\u001b[0m \u001b[38;5;66;03m# Backward pass\u001b[39;00m\n\u001b[1;32m     18\u001b[0m loss\u001b[38;5;241m.\u001b[39mbackward()\n",
      "File \u001b[0;32m~/.cache/pypoetry/virtualenvs/make-gpt-h_QPYcFF-py3.10/lib/python3.10/site-packages/torch/nn/functional.py:3086\u001b[0m, in \u001b[0;36mcross_entropy\u001b[0;34m(input, target, weight, size_average, ignore_index, reduce, reduction, label_smoothing)\u001b[0m\n\u001b[1;32m   3084\u001b[0m \u001b[38;5;28;01mif\u001b[39;00m size_average \u001b[38;5;129;01mis\u001b[39;00m \u001b[38;5;129;01mnot\u001b[39;00m \u001b[38;5;28;01mNone\u001b[39;00m \u001b[38;5;129;01mor\u001b[39;00m reduce \u001b[38;5;129;01mis\u001b[39;00m \u001b[38;5;129;01mnot\u001b[39;00m \u001b[38;5;28;01mNone\u001b[39;00m:\n\u001b[1;32m   3085\u001b[0m     reduction \u001b[38;5;241m=\u001b[39m _Reduction\u001b[38;5;241m.\u001b[39mlegacy_get_string(size_average, reduce)\n\u001b[0;32m-> 3086\u001b[0m \u001b[38;5;28;01mreturn\u001b[39;00m \u001b[43mtorch\u001b[49m\u001b[38;5;241;43m.\u001b[39;49m\u001b[43m_C\u001b[49m\u001b[38;5;241;43m.\u001b[39;49m\u001b[43m_nn\u001b[49m\u001b[38;5;241;43m.\u001b[39;49m\u001b[43mcross_entropy_loss\u001b[49m\u001b[43m(\u001b[49m\u001b[38;5;28;43minput\u001b[39;49m\u001b[43m,\u001b[49m\u001b[43m \u001b[49m\u001b[43mtarget\u001b[49m\u001b[43m,\u001b[49m\u001b[43m \u001b[49m\u001b[43mweight\u001b[49m\u001b[43m,\u001b[49m\u001b[43m \u001b[49m\u001b[43m_Reduction\u001b[49m\u001b[38;5;241;43m.\u001b[39;49m\u001b[43mget_enum\u001b[49m\u001b[43m(\u001b[49m\u001b[43mreduction\u001b[49m\u001b[43m)\u001b[49m\u001b[43m,\u001b[49m\u001b[43m \u001b[49m\u001b[43mignore_index\u001b[49m\u001b[43m,\u001b[49m\u001b[43m \u001b[49m\u001b[43mlabel_smoothing\u001b[49m\u001b[43m)\u001b[49m\n",
      "\u001b[0;31mRuntimeError\u001b[0m: Expected target size [32, 27], got [32]"
     ]
    }
   ],
   "source": [
    "max_steps = 200000\n",
    "batch_size = 32\n",
    "lossi = []\n",
    "\n",
    "Xtr, Ytr = Xtr.to(device), Ytr.to(device)\n",
    "\n",
    "for i in range(max_steps):\n",
    "    # Minibatch\n",
    "    ix = torch.randint(0, Xtr.shape[0], (batch_size,), device=device)\n",
    "    Xb, Yb = Xtr[ix], Ytr[ix]\n",
    "\n",
    "    # Forward pass\n",
    "    optimizer.zero_grad()\n",
    "    logits = model(Xb)\n",
    "    loss = F.cross_entropy(logits, Yb)\n",
    "    \n",
    "    # Backward pass\n",
    "    loss.backward()\n",
    "    \n",
    "    # Update\n",
    "    if i == int(2/3 * max_steps):\n",
    "        for param_group in optimizer.param_groups:\n",
    "            param_group['lr'] = lr_init / 10\n",
    "    optimizer.step()\n",
    "    \n",
    "    # Track stats\n",
    "    if i % 5000 == 0:\n",
    "        print(f\"{i:7d} /{max_steps:7d}: {loss.item():.4f}\")\n",
    "    lossi.append(loss.item())\n",
    "\n",
    "    if i > 10000:\n",
    "        break"
   ]
  },
  {
   "cell_type": "code",
   "execution_count": 19,
   "metadata": {},
   "outputs": [
    {
     "data": {
      "image/png": "[encoded data removed]",
      "text/plain": [
       "<Figure size 640x480 with 1 Axes>"
      ]
     },
     "metadata": {},
     "output_type": "display_data"
    }
   ],
   "source": [
    "plt.plot(lossi);"
   ]
  },
  {
   "cell_type": "code",
   "execution_count": 20,
   "metadata": {},
   "outputs": [
    {
     "name": "stdout",
     "output_type": "stream",
     "text": [
      "train: 2.1162\n",
      "val: 2.1516\n"
     ]
    }
   ],
   "source": [
    "Xdev, Ydev = Xdev.to(device), Ydev.to(device)\n",
    "\n",
    "@torch.no_grad()\n",
    "def split_loss(split):\n",
    "    x,y = {\n",
    "        \"train\": (Xtr, Ytr),\n",
    "        \"val\": (Xdev, Ydev),\n",
    "        \"test\": (Xte, Yte)\n",
    "    }[split]\n",
    "\n",
    "    # forward pass\n",
    "    emb = C[x]\n",
    "    embcat = emb.view(emb.shape[0], -1)\n",
    "    logits = model(embcat)\n",
    "    loss = F.cross_entropy(logits, y)\n",
    "\n",
    "\n",
    "    # # -------------\n",
    "    # emb = C[x]\n",
    "    # embcat = emb.view(emb.shape[0], -1)\n",
    "    # h = torch.tanh(embcat @ W1 + b1)  \n",
    "    # logits = h @ W2 + b2                                           \n",
    "    # loss = F.cross_entropy(logits, y)\n",
    "    print(f\"{split}: {loss.item():.4f}\")\n",
    "\n",
    "split_loss(\"train\")\n",
    "split_loss(\"val\")    "
   ]
  },
  {
   "cell_type": "code",
   "execution_count": 41,
   "metadata": {},
   "outputs": [],
   "source": [
    "if n_embd == 2:\n",
    "    plt.figure(figsize=(8,8))\n",
    "    plt.scatter(C[:,0].data, C[:,1].data, s=200)\n",
    "    for i in range(C.shape[0]):\n",
    "        plt.text(C[i,0].item(), C[i,1].item(), itos[i], ha=\"center\", va=\"center\", color=\"white\")\n",
    "    plt.grid(\"minor\");"
   ]
  },
  {
   "cell_type": "code",
   "execution_count": 23,
   "metadata": {},
   "outputs": [
    {
     "name": "stdout",
     "output_type": "stream",
     "text": [
      "ley.\n",
      "mushale.\n",
      "kalie.\n",
      "abbier.\n",
      "mene.\n",
      "gifaina.\n",
      "emim.\n",
      "kelnyana.\n",
      "armani.\n",
      "bebabylyn.\n",
      "ager.\n",
      "fyri.\n",
      "nielyn.\n",
      "aamiyolos.\n",
      "izenaree.\n",
      "hasavalonna.\n",
      "ela.\n",
      "qwali.\n",
      "tranaia.\n",
      "harian.\n"
     ]
    }
   ],
   "source": [
    "# Sampling function\n",
    "with torch.no_grad():\n",
    "    for _ in range(20):\n",
    "        model.eval()\n",
    "        out = []\n",
    "        context = [0] * block_size\n",
    "        while True:\n",
    "            emb = C[torch.tensor([context])]\n",
    "            x = emb.view(emb.shape[0], -1)\n",
    "            x = model(x)\n",
    "            probs = F.softmax(x, dim=1)\n",
    "            ix = torch.multinomial(probs, num_samples=1).item()\n",
    "            context = context[1:] + [ix]\n",
    "            out.append(ix)\n",
    "            if ix == 0:\n",
    "                break\n",
    "        print(\"\".join(itos[i] for i in out))"
   ]
  },
  {
   "cell_type": "code",
   "execution_count": 35,
   "metadata": {},
   "outputs": [
    {
     "name": "stdout",
     "output_type": "stream",
     "text": [
      "torch.Size([27, 10])\n",
      "tensor([[-0.1190,  0.5687,  0.1476,  0.3374,  0.2066, -0.2591, -0.3230, -0.5716,\n",
      "         -0.4979, -0.3566],\n",
      "        [ 0.0698,  0.2024,  0.6374, -0.2194, -0.1573,  0.7402,  0.3282, -0.0537,\n",
      "         -0.2743,  0.1161],\n",
      "        [-0.5098, -0.1099, -0.2583,  0.1422, -0.2168, -0.5813,  0.2249,  0.6067,\n",
      "         -0.8765,  0.1245],\n",
      "        [-1.0207, -0.7749,  0.5848,  0.6172,  0.0062,  0.0141, -0.9694,  0.1246,\n",
      "          0.4502,  0.3415],\n",
      "        [-0.2549, -0.0235, -0.3927, -0.1982, -0.6007,  0.0079,  0.0132,  0.1153,\n",
      "         -0.1278,  0.4082],\n",
      "        [ 0.2678,  0.3744,  0.0046, -0.5984,  0.1023,  0.1480, -0.1525,  0.6580,\n",
      "          0.0269,  0.1475],\n",
      "        [ 0.0039,  0.0895, -0.5743,  0.4658, -0.0858, -0.5028,  0.0321,  0.1422,\n",
      "         -0.2659,  0.7852],\n",
      "        [-0.3172, -0.5937,  0.1878,  0.3010,  0.3354, -0.3990,  0.1213,  0.4644,\n",
      "         -0.5182,  0.8167],\n",
      "        [ 0.2533, -0.4254, -0.1808,  0.4299, -0.3147, -0.3484,  0.9915, -0.6110,\n",
      "         -0.3622,  0.2308],\n",
      "        [ 0.4065,  0.0085, -0.0081, -0.0873,  0.2194,  0.3357, -0.0644,  0.0982,\n",
      "          1.3292, -0.1510],\n",
      "        [ 0.4806, -0.4965, -0.0714,  0.0052, -0.0422, -0.5813,  0.1714, -0.8908,\n",
      "         -0.2064, -0.7240],\n",
      "        [-0.2901, -0.8132,  0.1702,  0.0208, -0.5834, -0.4982, -0.2887, -0.5618,\n",
      "         -0.1590,  0.1606],\n",
      "        [ 0.0625, -0.6612, -1.0357, -0.1024,  0.0216, -0.3411, -0.3721,  0.7148,\n",
      "          0.0568, -0.7279],\n",
      "        [ 0.4554, -0.1147, -0.2973,  0.0487, -0.9141, -0.1633,  0.4226, -0.0800,\n",
      "         -0.5784,  0.3487],\n",
      "        [-0.3920,  0.0786, -0.0686, -0.4531, -0.6213,  0.0903,  0.0427, -0.6799,\n",
      "          0.5674,  0.2104],\n",
      "        [ 0.0120,  0.2992,  0.1906,  0.0555,  0.6004,  0.4463,  0.7068,  0.4358,\n",
      "         -0.0852, -0.3674],\n",
      "        [-0.8676, -0.3927,  0.2966,  0.9157,  0.1993, -0.2190,  0.0597,  0.1141,\n",
      "         -0.4392,  0.8316],\n",
      "        [-0.9932, -1.0651,  0.1108,  0.4523,  0.8788, -0.5774,  1.6264, -0.2572,\n",
      "         -0.0747, -0.9640],\n",
      "        [-0.5298, -0.0710, -0.3499, -0.4397, -0.5058, -0.5099, -0.3513,  0.1162,\n",
      "          0.3421,  0.0518],\n",
      "        [-0.0552, -0.3090, -0.3702,  1.0037,  0.2285,  0.3543, -0.3173, -0.2046,\n",
      "          0.2308,  0.1474],\n",
      "        [ 0.0849, -0.6726, -0.0813,  0.5677, -0.1021,  0.2591, -0.4298,  0.0639,\n",
      "          0.1308,  0.3598],\n",
      "        [-0.7538,  0.0969,  0.2092,  0.1381,  0.7913,  0.7340,  0.1934,  0.5278,\n",
      "          0.3327,  0.1358],\n",
      "        [ 0.5050, -0.5531,  0.1597, -0.4133, -0.5009, -0.8472, -0.3791,  0.9921,\n",
      "         -0.3144,  0.4792],\n",
      "        [ 0.0146,  0.0792, -0.4182, -0.1000,  0.1896, -0.7981, -0.0948,  0.1943,\n",
      "          0.1236,  0.7033],\n",
      "        [ 0.4158,  0.2459, -0.7177,  0.2947,  0.2425, -0.1023, -0.8659,  0.1431,\n",
      "          0.4460, -0.3425],\n",
      "        [ 0.6698, -0.1512, -0.4051, -0.0774,  0.3291, -0.0781,  0.7901, -0.2670,\n",
      "          0.4309, -0.2303],\n",
      "        [ 0.0031, -0.1312,  0.1944, -0.0337, -0.5324,  0.0811,  0.1345,  0.0589,\n",
      "         -0.2685,  0.7403]], requires_grad=True)\n"
     ]
    }
   ],
   "source": [
    "print(C.shape)\n",
    "print(C)"
   ]
  },
  {
   "cell_type": "code",
   "execution_count": 36,
   "metadata": {},
   "outputs": [
    {
     "name": "stdout",
     "output_type": "stream",
     "text": [
      "[0, 0, 0]\n",
      "tensor([0, 0, 0])\n",
      "torch.Size([3])\n"
     ]
    }
   ],
   "source": [
    "inp = [0] * block_size\n",
    "print(inp)\n",
    "context = torch.tensor(inp)\n",
    "print(context)\n",
    "print(context.shape)\n"
   ]
  },
  {
   "cell_type": "code",
   "execution_count": 46,
   "metadata": {},
   "outputs": [
    {
     "data": {
      "text/plain": [
       "torch.Size([182625, 3])"
      ]
     },
     "execution_count": 46,
     "metadata": {},
     "output_type": "execute_result"
    }
   ],
   "source": [
    "Xtr.shape"
   ]
  },
  {
   "cell_type": "code",
   "execution_count": 47,
   "metadata": {},
   "outputs": [
    {
     "data": {
      "text/plain": [
       "torch.Size([182625, 3, 10])"
      ]
     },
     "execution_count": 47,
     "metadata": {},
     "output_type": "execute_result"
    }
   ],
   "source": [
    "C[Xtr].shape"
   ]
  },
  {
   "cell_type": "code",
   "execution_count": 37,
   "metadata": {},
   "outputs": [
    {
     "name": "stdout",
     "output_type": "stream",
     "text": [
      "torch.Size([3, 10])\n",
      "tensor([[-0.1190,  0.5687,  0.1476,  0.3374,  0.2066, -0.2591, -0.3230, -0.5716,\n",
      "         -0.4979, -0.3566],\n",
      "        [-0.1190,  0.5687,  0.1476,  0.3374,  0.2066, -0.2591, -0.3230, -0.5716,\n",
      "         -0.4979, -0.3566],\n",
      "        [-0.1190,  0.5687,  0.1476,  0.3374,  0.2066, -0.2591, -0.3230, -0.5716,\n",
      "         -0.4979, -0.3566]], grad_fn=<IndexBackward0>)\n"
     ]
    }
   ],
   "source": [
    "print(C[context].shape)\n",
    "print(C[context])"
   ]
  },
  {
   "cell_type": "code",
   "execution_count": 41,
   "metadata": {},
   "outputs": [
    {
     "name": "stdout",
     "output_type": "stream",
     "text": [
      "torch.Size([3, 10])\n",
      "tensor([[-0.1190,  0.5687,  0.1476,  0.3374,  0.2066, -0.2591, -0.3230, -0.5716,\n",
      "         -0.4979, -0.3566],\n",
      "        [-0.1190,  0.5687,  0.1476,  0.3374,  0.2066, -0.2591, -0.3230, -0.5716,\n",
      "         -0.4979, -0.3566],\n",
      "        [-0.1190,  0.5687,  0.1476,  0.3374,  0.2066, -0.2591, -0.3230, -0.5716,\n",
      "         -0.4979, -0.3566]], grad_fn=<IndexBackward0>)\n",
      "torch.Size([3, 10])\n",
      "tensor([[-0.1190,  0.5687,  0.1476,  0.3374,  0.2066, -0.2591, -0.3230, -0.5716,\n",
      "         -0.4979, -0.3566],\n",
      "        [-0.1190,  0.5687,  0.1476,  0.3374,  0.2066, -0.2591, -0.3230, -0.5716,\n",
      "         -0.4979, -0.3566],\n",
      "        [-0.1190,  0.5687,  0.1476,  0.3374,  0.2066, -0.2591, -0.3230, -0.5716,\n",
      "         -0.4979, -0.3566]], grad_fn=<ViewBackward0>)\n"
     ]
    }
   ],
   "source": [
    "D = C[context]\n",
    "print(D.shape)\n",
    "print(D)\n",
    "E = D.view(D.shape[0], -1)\n",
    "print(E.shape)\n",
    "print(E)"
   ]
  },
  {
   "cell_type": "code",
   "execution_count": 45,
   "metadata": {},
   "outputs": [
    {
     "data": {
      "text/plain": [
       "torch.Size([32, 30])"
      ]
     },
     "execution_count": 45,
     "metadata": {},
     "output_type": "execute_result"
    }
   ],
   "source": [
    "C[Xb].view(C[Xb].shape[0], -1).shape"
   ]
  },
  {
   "cell_type": "code",
   "execution_count": 43,
   "metadata": {},
   "outputs": [
    {
     "data": {
      "text/plain": [
       "tensor([[-0.1190,  0.5687,  0.1476,  0.3374,  0.2066, -0.2591, -0.3230, -0.5716,\n",
       "         -0.4979, -0.3566],\n",
       "        [ 0.0698,  0.2024,  0.6374, -0.2194, -0.1573,  0.7402,  0.3282, -0.0537,\n",
       "         -0.2743,  0.1161],\n",
       "        [-0.5098, -0.1099, -0.2583,  0.1422, -0.2168, -0.5813,  0.2249,  0.6067,\n",
       "         -0.8765,  0.1245],\n",
       "        [-1.0207, -0.7749,  0.5848,  0.6172,  0.0062,  0.0141, -0.9694,  0.1246,\n",
       "          0.4502,  0.3415],\n",
       "        [-0.2549, -0.0235, -0.3927, -0.1982, -0.6007,  0.0079,  0.0132,  0.1153,\n",
       "         -0.1278,  0.4082],\n",
       "        [ 0.2678,  0.3744,  0.0046, -0.5984,  0.1023,  0.1480, -0.1525,  0.6580,\n",
       "          0.0269,  0.1475],\n",
       "        [ 0.0039,  0.0895, -0.5743,  0.4658, -0.0858, -0.5028,  0.0321,  0.1422,\n",
       "         -0.2659,  0.7852],\n",
       "        [-0.3172, -0.5937,  0.1878,  0.3010,  0.3354, -0.3990,  0.1213,  0.4644,\n",
       "         -0.5182,  0.8167],\n",
       "        [ 0.2533, -0.4254, -0.1808,  0.4299, -0.3147, -0.3484,  0.9915, -0.6110,\n",
       "         -0.3622,  0.2308],\n",
       "        [ 0.4065,  0.0085, -0.0081, -0.0873,  0.2194,  0.3357, -0.0644,  0.0982,\n",
       "          1.3292, -0.1510],\n",
       "        [ 0.4806, -0.4965, -0.0714,  0.0052, -0.0422, -0.5813,  0.1714, -0.8908,\n",
       "         -0.2064, -0.7240],\n",
       "        [-0.2901, -0.8132,  0.1702,  0.0208, -0.5834, -0.4982, -0.2887, -0.5618,\n",
       "         -0.1590,  0.1606],\n",
       "        [ 0.0625, -0.6612, -1.0357, -0.1024,  0.0216, -0.3411, -0.3721,  0.7148,\n",
       "          0.0568, -0.7279],\n",
       "        [ 0.4554, -0.1147, -0.2973,  0.0487, -0.9141, -0.1633,  0.4226, -0.0800,\n",
       "         -0.5784,  0.3487],\n",
       "        [-0.3920,  0.0786, -0.0686, -0.4531, -0.6213,  0.0903,  0.0427, -0.6799,\n",
       "          0.5674,  0.2104],\n",
       "        [ 0.0120,  0.2992,  0.1906,  0.0555,  0.6004,  0.4463,  0.7068,  0.4358,\n",
       "         -0.0852, -0.3674],\n",
       "        [-0.8676, -0.3927,  0.2966,  0.9157,  0.1993, -0.2190,  0.0597,  0.1141,\n",
       "         -0.4392,  0.8316],\n",
       "        [-0.9932, -1.0651,  0.1108,  0.4523,  0.8788, -0.5774,  1.6264, -0.2572,\n",
       "         -0.0747, -0.9640],\n",
       "        [-0.5298, -0.0710, -0.3499, -0.4397, -0.5058, -0.5099, -0.3513,  0.1162,\n",
       "          0.3421,  0.0518],\n",
       "        [-0.0552, -0.3090, -0.3702,  1.0037,  0.2285,  0.3543, -0.3173, -0.2046,\n",
       "          0.2308,  0.1474],\n",
       "        [ 0.0849, -0.6726, -0.0813,  0.5677, -0.1021,  0.2591, -0.4298,  0.0639,\n",
       "          0.1308,  0.3598],\n",
       "        [-0.7538,  0.0969,  0.2092,  0.1381,  0.7913,  0.7340,  0.1934,  0.5278,\n",
       "          0.3327,  0.1358],\n",
       "        [ 0.5050, -0.5531,  0.1597, -0.4133, -0.5009, -0.8472, -0.3791,  0.9921,\n",
       "         -0.3144,  0.4792],\n",
       "        [ 0.0146,  0.0792, -0.4182, -0.1000,  0.1896, -0.7981, -0.0948,  0.1943,\n",
       "          0.1236,  0.7033],\n",
       "        [ 0.4158,  0.2459, -0.7177,  0.2947,  0.2425, -0.1023, -0.8659,  0.1431,\n",
       "          0.4460, -0.3425],\n",
       "        [ 0.6698, -0.1512, -0.4051, -0.0774,  0.3291, -0.0781,  0.7901, -0.2670,\n",
       "          0.4309, -0.2303],\n",
       "        [ 0.0031, -0.1312,  0.1944, -0.0337, -0.5324,  0.0811,  0.1345,  0.0589,\n",
       "         -0.2685,  0.7403]], requires_grad=True)"
      ]
     },
     "execution_count": 43,
     "metadata": {},
     "output_type": "execute_result"
    }
   ],
   "source": [
    "C"
   ]
  },
  {
   "cell_type": "code",
   "execution_count": null,
   "metadata": {},
   "outputs": [],
   "source": []
  }
 ],
 "metadata": {
  "kernelspec": {
   "display_name": "make-gpt-h_QPYcFF-py3.10",
   "language": "python",
   "name": "python3"
  },
  "language_info": {
   "codemirror_mode": {
    "name": "ipython",
    "version": 3
   },
   "file_extension": ".py",
   "mimetype": "text/x-python",
   "name": "python",
   "nbconvert_exporter": "python",
   "pygments_lexer": "ipython3",
   "version": "3.10.12"
  }
 },
 "nbformat": 4,
 "nbformat_minor": 2
}
